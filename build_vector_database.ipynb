{
 "cells": [
  {
   "cell_type": "markdown",
   "id": "709ca411",
   "metadata": {},
   "source": [
    "# Extract Text Data"
   ]
  },
  {
   "cell_type": "code",
   "execution_count": 54,
   "id": "c46929ad",
   "metadata": {},
   "outputs": [],
   "source": [
    "import json\n",
    "import pandas as pd\n",
    "\n",
    "# Uncomment code after redownlading oracle cards, removed from directory due to large unfiltered size\n",
    "# # Fetch raw card data\n",
    "# cardfile = \"raw/oracle-cards-20240201100133.json\"\n",
    "\n",
    "# with open(cardfile, 'r', encoding='utf-8') as raw_oracle:\n",
    "#     raw_oracle_data = json.load(raw_oracle)\n",
    "\n",
    "# filtered_data = [card for card in raw_oracle_data if card.get('set_type') != \"memorabilia\"]\n",
    "\n",
    "# columns_to_keep = [\"name\", \"mana_cost\", \"cmc\", \"type_line\", \"oracle_text\", \"power\", \"toughness\",\n",
    "#                     \"colors\", \"color_identity\", \"keywords\"]\n",
    "\n",
    "# df = pd.DataFrame(filtered_data)\n",
    "# df = df[columns_to_keep]\n",
    "# df.to_csv(\"raw/filtered_oracle_database.csv\", index=False, encoding='utf-8')\n",
    "\n",
    "df = pd.read_csv(\"raw/filtered_oracle_database.csv\")\n",
    "\n",
    "formatted_rows = []\n",
    "card_names = []\n",
    "for index, row in df.iterrows():\n",
    "    formatted_row = \"\"\n",
    "    for column_name, value in row.items():\n",
    "#         if column_name == \"name\":\n",
    "#             formatted_row += f\"{column_name}: {value}\\n\"\n",
    "        formatted_row += f\"{column_name}: {value}\\n\"\n",
    "    card_names.append(row['name'])\n",
    "    formatted_rows.append(formatted_row.strip())"
   ]
  },
  {
   "cell_type": "markdown",
   "id": "d04ad861",
   "metadata": {},
   "source": [
    "# Chunk data and create embeddings"
   ]
  },
  {
   "cell_type": "code",
   "execution_count": 57,
   "id": "16e00c8e",
   "metadata": {},
   "outputs": [],
   "source": [
    "# Chunk data into 5 card piles with 2 newlines between each card\n",
    "chunked_data = []\n",
    "chunked_names = []\n",
    "current_chunk = \"\"\n",
    "current_name_chunk = \"\"\n",
    "for i, row in enumerate(formatted_rows):\n",
    "    current_chunk += row + \"\\n\\n\"\n",
    "    current_name_chunk += card_names[i] + \"\\n\"\n",
    "    if len(current_chunk.split('\\n\\n')) == 6:  # Each chunk contains 5 cards and 1 extra newline character\n",
    "        chunked_data.append(current_chunk.strip())\n",
    "        current_chunk = \"\"\n",
    "        chunked_names.append(current_name_chunk.strip())\n",
    "        current_name_chunk = \"\"\n",
    "\n",
    "# If there are remaining cards not included in chunks\n",
    "if current_chunk:\n",
    "    chunked_data.append(current_chunk.strip())\n",
    "    chunked_names.append(current_name_chunk.strip())"
   ]
  },
  {
   "cell_type": "code",
   "execution_count": 2,
   "id": "0a50e6d5",
   "metadata": {},
   "outputs": [
    {
     "name": "stderr",
     "output_type": "stream",
     "text": [
      "C:\\Users\\lesli\\anaconda3\\Lib\\site-packages\\bitsandbytes\\cextension.py:34: UserWarning: The installed version of bitsandbytes was compiled without GPU support. 8-bit optimizers, 8-bit multiplication, and GPU quantization are unavailable.\n",
      "  warn(\"The installed version of bitsandbytes was compiled without GPU support. \"\n"
     ]
    },
    {
     "name": "stdout",
     "output_type": "stream",
     "text": [
      "'NoneType' object has no attribute 'cadam32bit_grad_fp32'\n"
     ]
    },
    {
     "name": "stderr",
     "output_type": "stream",
     "text": [
      "comet_ml is installed but `COMET_API_KEY` is not set.\n"
     ]
    }
   ],
   "source": [
    "from angle_emb import AnglE\n",
    "\n",
    "angle = AnglE.from_pretrained('WhereIsAI/UAE-Large-V1', pooling_strategy='cls')"
   ]
  },
  {
   "cell_type": "code",
   "execution_count": 79,
   "id": "6b621b4b",
   "metadata": {},
   "outputs": [
    {
     "name": "stderr",
     "output_type": "stream",
     "text": [
      "Encoding and saving: 100%|██████████| 2/2 [00:03<00:00,  1.70s/it]\n"
     ]
    }
   ],
   "source": [
    "import sqlite3\n",
    "from tqdm import tqdm\n",
    "\n",
    "conn = sqlite3.connect('raw/card_vector_database.db')\n",
    "c = conn.cursor()\n",
    "\n",
    "c.execute('''CREATE TABLE IF NOT EXISTS vectors\n",
    "             (id INTEGER PRIMARY KEY, name TEXT, card_text TEXT, vector BLOB)''')\n",
    "\n",
    "# Encode and save the encodings along with the corresponding indices, name, and text\n",
    "for i, (name, chunked) in enumerate(tqdm(zip(chunked_names, chunked_data), desc=\"Encoding and saving\")):\n",
    "    encodings = angle.encode(chunked, to_numpy=True)\n",
    "    \n",
    "    c.execute(\"INSERT INTO vectors (id, name, text, vector) VALUES (?, ?, ?, ?)\",\n",
    "              (i, name, chunked, encodings.tobytes()))\n",
    "\n",
    "conn.commit()\n",
    "conn.close()"
   ]
  },
  {
   "cell_type": "code",
   "execution_count": 48,
   "id": "53388427",
   "metadata": {},
   "outputs": [],
   "source": [
    "import sqlite3\n",
    "import numpy as np\n",
    "from tqdm import tqdm\n",
    "from scipy.spatial.distance import cosine\n",
    "\n",
    "def semantic_search(query, vector_db_name):\n",
    "    conn = sqlite3.connect(vector_db_name)\n",
    "    c = conn.cursor()\n",
    "\n",
    "    query_embedding = angle.encode(query, to_numpy=True).flatten()\n",
    "\n",
    "    c.execute(\"SELECT id, text, vector FROM vectors\")\n",
    "    rows = c.fetchall()\n",
    "\n",
    "    similarities = []\n",
    "    for row in rows :\n",
    "        id_, text, vector_bytes = row\n",
    "        stored_embedding = np.frombuffer(vector_bytes, dtype=np.float32).flatten()\n",
    "        sim = 1 - cosine(query_embedding, stored_embedding)\n",
    "        similarities.append((id_, text, sim))\n",
    "\n",
    "    similarities.sort(key=lambda x: x[2], reverse=True)  # Sort by similarity scores in descending order\n",
    "\n",
    "    top_3_matches = similarities[:5]\n",
    "\n",
    "    conn.close()\n",
    "\n",
    "    return [(match[1], match[2]) for match in top_3_matches]  # Return top 3 chunks along with their similarity scores"
   ]
  },
  {
   "cell_type": "code",
   "execution_count": 49,
   "id": "a57a9dd8",
   "metadata": {},
   "outputs": [
    {
     "name": "stderr",
     "output_type": "stream",
     "text": [
      "Processing Cards: 100%|██████████| 1000/1000 [12:02<00:00,  1.38it/s]"
     ]
    },
    {
     "name": "stdout",
     "output_type": "stream",
     "text": [
      "Percentage of returned chunks where there is an exact card name match in the top 3 results: 44.00%\n"
     ]
    },
    {
     "name": "stderr",
     "output_type": "stream",
     "text": [
      "\n"
     ]
    }
   ],
   "source": [
    "import pandas as pd\n",
    "\n",
    "# Load the CSV file into a DataFrame\n",
    "df = pd.read_csv(\"RAG_MTG_Test.csv\")\n",
    "\n",
    "# Assuming you already have semantic_search function defined\n",
    "vector_db_name = \"raw/card_vector_database.db\"\n",
    "total_cards = len(df)\n",
    "exact_matches_count = 0\n",
    "\n",
    "# Iterate through the \"Card Name\" column with tqdm\n",
    "for card_name in tqdm(df[\"Card Name\"], desc=\"Processing Cards\", total=total_cards):\n",
    "    # Perform semantic search\n",
    "    result = semantic_search(card_name, vector_db_name)\n",
    "    \n",
    "    # Get the top 3 matches\n",
    "    top_3_matches = [res[0] for res in result[:5]]  # Assuming result is a list of tuples (text, similarity), and we want the text of the top 3 matches\n",
    "    \n",
    "    # Check if the exact string of the card name is present in the top 3 matches\n",
    "    if any(card_name in match for match in top_3_matches):\n",
    "        exact_matches_count += 1\n",
    "\n",
    "# Calculate the percentage of returned chunks where there is an exact card name match in the top 3 results\n",
    "exact_matches_percent = (exact_matches_count / total_cards) * 100\n",
    "\n",
    "print(f\"Percentage of returned chunks where there is an exact card name match in the top 3 results: {exact_matches_percent:.2f}%\")"
   ]
  },
  {
   "cell_type": "code",
   "execution_count": null,
   "id": "7a574e3e",
   "metadata": {},
   "outputs": [],
   "source": []
  }
 ],
 "metadata": {
  "kernelspec": {
   "display_name": "Python 3 (ipykernel)",
   "language": "python",
   "name": "python3"
  },
  "language_info": {
   "codemirror_mode": {
    "name": "ipython",
    "version": 3
   },
   "file_extension": ".py",
   "mimetype": "text/x-python",
   "name": "python",
   "nbconvert_exporter": "python",
   "pygments_lexer": "ipython3",
   "version": "3.11.4"
  }
 },
 "nbformat": 4,
 "nbformat_minor": 5
}
