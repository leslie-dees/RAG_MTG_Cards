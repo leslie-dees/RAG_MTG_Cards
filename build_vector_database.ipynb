{
 "cells": [
  {
   "cell_type": "markdown",
   "id": "709ca411",
   "metadata": {},
   "source": [
    "# Extract Text Data"
   ]
  },
  {
   "cell_type": "code",
   "execution_count": 1,
   "id": "c46929ad",
   "metadata": {},
   "outputs": [],
   "source": [
    "import json\n",
    "import pandas as pd\n",
    "\n",
    "# Uncomment code after redownlading oracle cards, removed from directory due to large unfiltered size\n",
    "# # Fetch raw card data\n",
    "# cardfile = \"raw/oracle-cards-20240201100133.json\"\n",
    "\n",
    "# with open(cardfile, 'r', encoding='utf-8') as raw_oracle:\n",
    "#     raw_oracle_data = json.load(raw_oracle)\n",
    "\n",
    "# filtered_data = [card for card in raw_oracle_data if card.get('set_type') != \"memorabilia\"]\n",
    "\n",
    "# columns_to_keep = [\"name\", \"mana_cost\", \"cmc\", \"type_line\", \"oracle_text\", \"power\", \"toughness\",\n",
    "#                     \"colors\", \"color_identity\", \"keywords\"]\n",
    "\n",
    "# df = pd.DataFrame(filtered_data)\n",
    "# df = df[columns_to_keep]\n",
    "# df.to_csv(\"raw/filtered_oracle_database.csv\", index=False, encoding='utf-8')\n",
    "\n",
    "df = pd.read_csv(\"raw/filtered_oracle_database.csv\")\n",
    "\n",
    "formatted_rows = []\n",
    "for index, row in df.iterrows():\n",
    "    formatted_row = \"\"\n",
    "    for column_name, value in row.items():\n",
    "        formatted_row += f\"{column_name}: {value}\\n\"\n",
    "    formatted_rows.append(formatted_row.strip())"
   ]
  },
  {
   "cell_type": "markdown",
   "id": "d04ad861",
   "metadata": {},
   "source": [
    "# Chunk data and create embeddings"
   ]
  },
  {
   "cell_type": "code",
   "execution_count": 2,
   "id": "16e00c8e",
   "metadata": {},
   "outputs": [],
   "source": [
    "# Chunk data into 5 card piles with 2 newlines between each card\n",
    "chunked_data = []\n",
    "current_chunk = \"\"\n",
    "for row in formatted_rows:\n",
    "    current_chunk += row + \"\\n\\n\"\n",
    "    if len(current_chunk.split('\\n\\n')) == 6:  # Each chunk contains 5 cards and 1 extra newline character\n",
    "        chunked_data.append(current_chunk.strip())\n",
    "        current_chunk = \"\"\n",
    "\n",
    "# If there are remaining cards not included in chunks\n",
    "if current_chunk:\n",
    "    chunked_data.append(current_chunk.strip())"
   ]
  },
  {
   "cell_type": "code",
   "execution_count": 65,
   "id": "0a50e6d5",
   "metadata": {},
   "outputs": [],
   "source": [
    "from angle_emb import AnglE\n",
    "\n",
    "angle = AnglE.from_pretrained('WhereIsAI/UAE-Large-V1', pooling_strategy='cls')"
   ]
  },
  {
   "cell_type": "code",
   "execution_count": 75,
   "id": "491ec8a3",
   "metadata": {},
   "outputs": [],
   "source": [
    "#chunked_data_test = [chunked_data[0], chunked_data[1]]"
   ]
  },
  {
   "cell_type": "code",
   "execution_count": 79,
   "id": "6b621b4b",
   "metadata": {},
   "outputs": [
    {
     "name": "stderr",
     "output_type": "stream",
     "text": [
      "Encoding and saving: 100%|██████████| 2/2 [00:03<00:00,  1.70s/it]\n"
     ]
    }
   ],
   "source": [
    "import sqlite3\n",
    "from tqdm import tqdm\n",
    "\n",
    "# Connect to the database\n",
    "conn = sqlite3.connect('raw/card_vector_database.db')\n",
    "c = conn.cursor()\n",
    "\n",
    "# Create table\n",
    "c.execute('''CREATE TABLE IF NOT EXISTS vectors\n",
    "             (id INTEGER PRIMARY KEY, text TEXT, vector BLOB)''')\n",
    "\n",
    "# Encode and save the encodings along with the corresponding indices\n",
    "for i, chunked in enumerate(tqdm(chunked_data_test, desc=\"Encoding and saving\")):\n",
    "    encodings = angle.encode(chunked, to_numpy=True)\n",
    "    \n",
    "    # Insert the encoded chunk and its corresponding text into the database\n",
    "    c.execute(\"INSERT INTO vectors (id, text, vector) VALUES (?, ?, ?)\",\n",
    "              (i, chunked, encodings.tobytes()))\n",
    "\n",
    "# Commit changes and close the connection\n",
    "conn.commit()\n",
    "conn.close()"
   ]
  },
  {
   "cell_type": "code",
   "execution_count": 87,
   "id": "53388427",
   "metadata": {},
   "outputs": [
    {
     "name": "stderr",
     "output_type": "stream",
     "text": [
      "Calculating similarities: 100%|██████████| 2/2 [00:00<00:00, 1999.19it/s]"
     ]
    },
    {
     "name": "stdout",
     "output_type": "stream",
     "text": [
      "name: Ravnica at War\n",
      "mana_cost: {3}{W}\n",
      "cmc: 4.0\n",
      "type_line: Sorcery\n",
      "oracle_text: Exile all multicolored permanents.\n",
      "power: nan\n",
      "toughness: nan\n",
      "colors: ['W']\n",
      "color_identity: ['W']\n",
      "keywords: []\n",
      "\n",
      "name: Greta, Sweettooth Scourge\n",
      "mana_cost: {1}{B}{G}\n",
      "cmc: 3.0\n",
      "type_line: Legendary Creature — Human Warrior\n",
      "oracle_text: When Greta, Sweettooth Scourge enters the battlefield, create a Food token. (It's an artifact with \"{2}, {T}, Sacrifice this artifact: You gain 3 life.\")\n",
      "{G}, Sacrifice a Food: Put a +1/+1 counter on target creature. Activate only as a sorcery.\n",
      "{1}{B}, Sacrifice a Food: You draw a card and you lose 1 life.\n",
      "power: 3\n",
      "toughness: 3\n",
      "colors: ['B', 'G']\n",
      "color_identity: ['B', 'G']\n",
      "keywords: ['Food']\n",
      "\n",
      "name: Torrent of Fire\n",
      "mana_cost: {3}{R}{R}\n",
      "cmc: 5.0\n",
      "type_line: Sorcery\n",
      "oracle_text: Torrent of Fire deals damage to any target equal to the highest mana value among permanents you control.\n",
      "power: nan\n",
      "toughness: nan\n",
      "colors: ['R']\n",
      "color_identity: ['R']\n",
      "keywords: []\n",
      "\n",
      "name: Wyluli Wolf\n",
      "mana_cost: {1}{G}\n",
      "cmc: 2.0\n",
      "type_line: Creature — Wolf\n",
      "oracle_text: {T}: Target creature gets +1/+1 until end of turn.\n",
      "power: 1\n",
      "toughness: 1\n",
      "colors: ['G']\n",
      "color_identity: ['G']\n",
      "keywords: []\n",
      "\n",
      "name: Pteramander\n",
      "mana_cost: {U}\n",
      "cmc: 1.0\n",
      "type_line: Creature — Salamander Drake\n",
      "oracle_text: Flying\n",
      "{7}{U}: Adapt 4. This ability costs {1} less to activate for each instant and sorcery card in your graveyard. (If this creature has no +1/+1 counters on it, put four +1/+1 counters on it.)\n",
      "power: 1\n",
      "toughness: 1\n",
      "colors: ['U']\n",
      "color_identity: ['U']\n",
      "keywords: ['Flying', 'Adapt']\n"
     ]
    },
    {
     "name": "stderr",
     "output_type": "stream",
     "text": [
      "\n"
     ]
    }
   ],
   "source": [
    "# import sqlite3\n",
    "# import numpy as np\n",
    "# from tqdm import tqdm\n",
    "# from scipy.spatial.distance import cosine\n",
    "\n",
    "# def semantic_search(query, vector_db_name):\n",
    "#     conn = sqlite3.connect(vector_db_name)\n",
    "#     c = conn.cursor()\n",
    "\n",
    "#     query_embedding = angle.encode(query, to_numpy=True).flatten()\n",
    "\n",
    "#     c.execute(\"SELECT id, text, vector FROM vectors\")\n",
    "#     rows = c.fetchall()\n",
    "\n",
    "#     similarities = []\n",
    "#     for row in tqdm(rows, desc=\"Calculating similarities\"):\n",
    "#         id_, text, vector_bytes = row\n",
    "#         stored_embedding = np.frombuffer(vector_bytes, dtype=np.float32).flatten()\n",
    "#         sim = 1 - cosine(query_embedding, stored_embedding)\n",
    "#         similarities.append((id_, text, sim))\n",
    "\n",
    "#     best_match = max(similarities, key=lambda x: x[2])\n",
    "\n",
    "#     conn.close()\n",
    "\n",
    "#     return best_match[1]\n",
    "\n",
    "\n",
    "# # Example usage:\n",
    "# query = \"Ravnica at War\"\n",
    "# vector_db_name = \"card_vector_database.db\"\n",
    "# result = semantic_search(query, vector_db_name)\n",
    "# print(result)"
   ]
  },
  {
   "cell_type": "code",
   "execution_count": null,
   "id": "a57a9dd8",
   "metadata": {},
   "outputs": [],
   "source": []
  }
 ],
 "metadata": {
  "kernelspec": {
   "display_name": "Python 3 (ipykernel)",
   "language": "python",
   "name": "python3"
  },
  "language_info": {
   "codemirror_mode": {
    "name": "ipython",
    "version": 3
   },
   "file_extension": ".py",
   "mimetype": "text/x-python",
   "name": "python",
   "nbconvert_exporter": "python",
   "pygments_lexer": "ipython3",
   "version": "3.11.4"
  }
 },
 "nbformat": 4,
 "nbformat_minor": 5
}
