{
 "cells": [
  {
   "cell_type": "markdown",
   "id": "709ca411",
   "metadata": {},
   "source": [
    "# Extract Text Data"
   ]
  },
  {
   "cell_type": "code",
   "execution_count": 54,
   "id": "c46929ad",
   "metadata": {},
   "outputs": [],
   "source": [
    "import json\n",
    "import pandas as pd\n",
    "\n",
    "# Uncomment code after redownlading oracle cards, removed from directory due to large unfiltered size\n",
    "# # Fetch raw card data\n",
    "# cardfile = \"raw/oracle-cards-20240201100133.json\"\n",
    "\n",
    "# with open(cardfile, 'r', encoding='utf-8') as raw_oracle:\n",
    "#     raw_oracle_data = json.load(raw_oracle)\n",
    "\n",
    "# filtered_data = [card for card in raw_oracle_data if card.get('set_type') != \"memorabilia\"]\n",
    "\n",
    "# columns_to_keep = [\"name\", \"mana_cost\", \"cmc\", \"type_line\", \"oracle_text\", \"power\", \"toughness\",\n",
    "#                     \"colors\", \"color_identity\", \"keywords\"]\n",
    "\n",
    "# df = pd.DataFrame(filtered_data)\n",
    "# df = df[columns_to_keep]\n",
    "# df.to_csv(\"raw/filtered_oracle_database.csv\", index=False, encoding='utf-8')\n",
    "\n",
    "df = pd.read_csv(\"raw/filtered_oracle_database.csv\")\n",
    "\n",
    "formatted_rows = []\n",
    "card_names = []\n",
    "for index, row in df.iterrows():\n",
    "    formatted_row = \"\"\n",
    "    for column_name, value in row.items():\n",
    "#         if column_name == \"name\":\n",
    "#             formatted_row += f\"{column_name}: {value}\\n\"\n",
    "        formatted_row += f\"{column_name}: {value}\\n\"\n",
    "    card_names.append(row['name'])\n",
    "    formatted_rows.append(formatted_row.strip())"
   ]
  },
  {
   "cell_type": "markdown",
   "id": "d04ad861",
   "metadata": {},
   "source": [
    "# Chunk data and create embeddings"
   ]
  },
  {
   "cell_type": "code",
   "execution_count": 57,
   "id": "16e00c8e",
   "metadata": {},
   "outputs": [],
   "source": [
    "# Chunk data into 5 card piles with 2 newlines between each card\n",
    "chunked_data = []\n",
    "chunked_names = []\n",
    "current_chunk = \"\"\n",
    "current_name_chunk = \"\"\n",
    "for i, row in enumerate(formatted_rows):\n",
    "    current_chunk += row + \"\\n\\n\"\n",
    "    current_name_chunk += card_names[i] + \"\\n\"\n",
    "    if len(current_chunk.split('\\n\\n')) == 6:  # Each chunk contains 5 cards and 1 extra newline character\n",
    "        chunked_data.append(current_chunk.strip())\n",
    "        current_chunk = \"\"\n",
    "        chunked_names.append(current_name_chunk.strip())\n",
    "        current_name_chunk = \"\"\n",
    "\n",
    "# If there are remaining cards not included in chunks\n",
    "if current_chunk:\n",
    "    chunked_data.append(current_chunk.strip())\n",
    "    chunked_names.append(current_name_chunk.strip())"
   ]
  },
  {
   "cell_type": "code",
   "execution_count": 2,
   "id": "0a50e6d5",
   "metadata": {},
   "outputs": [
    {
     "name": "stderr",
     "output_type": "stream",
     "text": [
      "C:\\Users\\lesli\\anaconda3\\Lib\\site-packages\\bitsandbytes\\cextension.py:34: UserWarning: The installed version of bitsandbytes was compiled without GPU support. 8-bit optimizers, 8-bit multiplication, and GPU quantization are unavailable.\n",
      "  warn(\"The installed version of bitsandbytes was compiled without GPU support. \"\n"
     ]
    },
    {
     "name": "stdout",
     "output_type": "stream",
     "text": [
      "'NoneType' object has no attribute 'cadam32bit_grad_fp32'\n"
     ]
    },
    {
     "name": "stderr",
     "output_type": "stream",
     "text": [
      "comet_ml is installed but `COMET_API_KEY` is not set.\n"
     ]
    }
   ],
   "source": [
    "from angle_emb import AnglE\n",
    "\n",
    "angle = AnglE.from_pretrained('WhereIsAI/UAE-Large-V1', pooling_strategy='cls')"
   ]
  },
  {
   "cell_type": "code",
   "execution_count": 79,
   "id": "6b621b4b",
   "metadata": {},
   "outputs": [
    {
     "name": "stderr",
     "output_type": "stream",
     "text": [
      "Encoding and saving: 100%|██████████| 2/2 [00:03<00:00,  1.70s/it]\n"
     ]
    }
   ],
   "source": [
    "import sqlite3\n",
    "from tqdm import tqdm\n",
    "\n",
    "conn = sqlite3.connect('raw/card_vector_database.db')\n",
    "c = conn.cursor()\n",
    "\n",
    "c.execute('''CREATE TABLE IF NOT EXISTS vectors\n",
    "             (id INTEGER PRIMARY KEY, name TEXT, card_text TEXT, vector BLOB)''')\n",
    "\n",
    "# Encode and save the encodings along with the corresponding indices, name, and text\n",
    "for i, (name, chunked) in enumerate(tqdm(zip(chunked_names, chunked_data), desc=\"Encoding and saving\")):\n",
    "    encodings = angle.encode(chunked, to_numpy=True)\n",
    "    \n",
    "    c.execute(\"INSERT INTO vectors (id, name, text, vector) VALUES (?, ?, ?, ?)\",\n",
    "              (i, name, chunked, encodings.tobytes()))\n",
    "\n",
    "conn.commit()\n",
    "conn.close()"
   ]
  },
  {
   "cell_type": "code",
   "execution_count": 80,
   "id": "53388427",
   "metadata": {},
   "outputs": [],
   "source": [
    "import sqlite3\n",
    "import numpy as np\n",
    "from tqdm import tqdm\n",
    "from scipy.spatial.distance import cosine\n",
    "\n",
    "def semantic_search(query, vector_db_name):\n",
    "    conn = sqlite3.connect(vector_db_name)\n",
    "    c = conn.cursor()\n",
    "\n",
    "    query_embedding = angle.encode(query, to_numpy=True).flatten()\n",
    "\n",
    "    c.execute(\"SELECT id, name, card_text, vector FROM vectordb\")\n",
    "    rows = c.fetchall()\n",
    "\n",
    "    similarities = []\n",
    "    for row in rows :\n",
    "        id_, name, card_text, vector_bytes = row\n",
    "        stored_embedding = np.frombuffer(vector_bytes, dtype=np.float32).flatten()\n",
    "        sim = 1 - cosine(query_embedding, stored_embedding)\n",
    "        similarities.append((id_, card_text, sim))\n",
    "\n",
    "    similarities.sort(key=lambda x: x[2], reverse=True)  # Sort by similarity scores in descending order\n",
    "\n",
    "    top_matches = similarities[:5]\n",
    "\n",
    "    conn.close()\n",
    "\n",
    "    return [(match[1], match[2]) for match in top_matches]"
   ]
  },
  {
   "cell_type": "code",
   "execution_count": 78,
   "id": "a57a9dd8",
   "metadata": {},
   "outputs": [],
   "source": [
    "# Example of how I can use semantic search in my vector database\n",
    "vector_db_name = \"raw/full_card_vector_database.db\"\n",
    "\n",
    "query = \"Sign in blood\"\n",
    "test = semantic_search(query, vector_db_name)\n",
    "all_chunks = \"\"\n",
    "for item in test:\n",
    "    all_chunks += item[0]+\"\\n\\n\"\n",
    "print(all_chunks)"
   ]
  },
  {
   "cell_type": "code",
   "execution_count": null,
   "id": "9026908e",
   "metadata": {},
   "outputs": [],
   "source": []
  }
 ],
 "metadata": {
  "kernelspec": {
   "display_name": "Python 3 (ipykernel)",
   "language": "python",
   "name": "python3"
  },
  "language_info": {
   "codemirror_mode": {
    "name": "ipython",
    "version": 3
   },
   "file_extension": ".py",
   "mimetype": "text/x-python",
   "name": "python",
   "nbconvert_exporter": "python",
   "pygments_lexer": "ipython3",
   "version": "3.11.4"
  }
 },
 "nbformat": 4,
 "nbformat_minor": 5
}
