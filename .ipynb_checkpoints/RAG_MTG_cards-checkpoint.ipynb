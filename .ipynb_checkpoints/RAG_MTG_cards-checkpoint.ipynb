{
 "cells": [
  {
   "cell_type": "code",
   "execution_count": 57,
   "id": "94ffaf5a",
   "metadata": {},
   "outputs": [
    {
     "data": {
      "application/vnd.jupyter.widget-view+json": {
       "model_id": "86de849853cc4a04aa18e4f8f33d9bb5",
       "version_major": 2,
       "version_minor": 0
      },
      "text/plain": [
       "Downloading shards:   0%|          | 0/2 [00:00<?, ?it/s]"
      ]
     },
     "metadata": {},
     "output_type": "display_data"
    },
    {
     "data": {
      "application/vnd.jupyter.widget-view+json": {
       "model_id": "75551cad224041a1bd64bf6f95d0866a",
       "version_major": 2,
       "version_minor": 0
      },
      "text/plain": [
       "model-00001-of-00002.safetensors:   0%|          | 0.00/9.94G [00:00<?, ?B/s]"
      ]
     },
     "metadata": {},
     "output_type": "display_data"
    },
    {
     "data": {
      "application/vnd.jupyter.widget-view+json": {
       "model_id": "7c657a1352174bdd8ae64eb82d8f8a50",
       "version_major": 2,
       "version_minor": 0
      },
      "text/plain": [
       "model-00002-of-00002.safetensors:   0%|          | 0.00/4.54G [00:00<?, ?B/s]"
      ]
     },
     "metadata": {},
     "output_type": "display_data"
    },
    {
     "data": {
      "application/vnd.jupyter.widget-view+json": {
       "model_id": "e72aa70e4e804cf9bbcd89bf8b5f545f",
       "version_major": 2,
       "version_minor": 0
      },
      "text/plain": [
       "Loading checkpoint shards:   0%|          | 0/2 [00:00<?, ?it/s]"
      ]
     },
     "metadata": {},
     "output_type": "display_data"
    },
    {
     "data": {
      "application/vnd.jupyter.widget-view+json": {
       "model_id": "54fc0219cb18485da1302fa2f624c688",
       "version_major": 2,
       "version_minor": 0
      },
      "text/plain": [
       "generation_config.json:   0%|          | 0.00/116 [00:00<?, ?B/s]"
      ]
     },
     "metadata": {},
     "output_type": "display_data"
    }
   ],
   "source": [
    "import sqlite3\n",
    "import numpy as np\n",
    "from tqdm import tqdm\n",
    "from scipy.spatial.distance import cosine\n",
    "from angle_emb import AnglE\n",
    "from transformers import AutoTokenizer, AutoModelForCausalLM\n",
    "import torch\n",
    "\n",
    "angle = AnglE.from_pretrained('WhereIsAI/UAE-Large-V1', pooling_strategy='cls')\n",
    "tokenizer = AutoTokenizer.from_pretrained(\"mistralai/Mistral-7B-Instruct-v0.1\")\n",
    "model = AutoModelForCausalLM.from_pretrained(\"mistralai/Mistral-7B-Instruct-v0.1\")\n",
    "\n",
    "vector_db_name = \"raw/full_card_vector_database.db\"\n",
    "\n",
    "device = torch.device(\"cuda\" if torch.cuda.is_available() else \"cpu\")\n",
    "model.to(device)"
   ]
  },
  {
   "cell_type": "code",
   "execution_count": 59,
   "id": "b1be5221",
   "metadata": {},
   "outputs": [],
   "source": [
    "\n",
    "def semantic_search(query, vector_db_name, number_chunks = 5):\n",
    "    conn = sqlite3.connect(vector_db_name)\n",
    "    c = conn.cursor()\n",
    "\n",
    "    query_embedding = angle.encode(query, to_numpy=True).flatten()\n",
    "\n",
    "    c.execute(\"SELECT id, name, card_text, vector FROM vectordb\")\n",
    "    rows = c.fetchall()\n",
    "\n",
    "    similarities = []\n",
    "    for row in rows :\n",
    "        id_, name, card_text, vector_bytes = row\n",
    "        stored_embedding = np.frombuffer(vector_bytes, dtype=np.float32).flatten()\n",
    "        sim = 1 - cosine(query_embedding, stored_embedding)\n",
    "        similarities.append((id_, card_text, sim))\n",
    "\n",
    "    similarities.sort(key=lambda x: x[2], reverse=True)  # Sort by similarity scores in descending order\n",
    "\n",
    "    top_matches = similarities[:number_chunks]\n",
    "\n",
    "    conn.close()\n",
    "\n",
    "    return [(match[1], match[2]) for match in top_matches]\n",
    "\n",
    "def rag_query(query, model, tokenizer):\n",
    "    chunks = semantic_search(query, vector_db_name, 3)\n",
    "    \n",
    "    prompt_prefix = \"\"\n",
    "    for chunk in chunks:\n",
    "        prompt_prefix += chunk[0]+\"/n/n\"\n",
    "    \n",
    "    prompt = f\"\"\"[INST]\n",
    "    Given the following card data, provide me with the exact text of {query} in the format of :\n",
    "    \\nname: \\nmana_cost: \\ncmc: \\ntype_line: \\noracle_text: \\npower: \\ntoughness: \\ncolors: \\ncolor_identity: \\nkeywords:\n",
    "    \n",
    "    \\n{prompt_prefix}\n",
    "    \n",
    "    Use only the data in the provided chunks above. [/INST]\n",
    "    \"\"\"\n",
    "    \n",
    "    message = [{\n",
    "        \"role\":\"user\",\n",
    "        \"content\": prompt\n",
    "    }]\n",
    "    \n",
    "    model_inputs = tokenizer.apply_chat_template(\n",
    "        message,\n",
    "        return_tensors = \"pt\",\n",
    "    )\n",
    "    \n",
    "    #model_inputs = {key: tensor.to(device) for key, tensor in model_inputs.items()}\n",
    "    \n",
    "    generated_ids = model.generate(\n",
    "        model_inputs,\n",
    "        max_new_tokens = 1000,\n",
    "        do_sample = True\n",
    "    )\n",
    "    \n",
    "    decoded = tokenizer.batch_decode(generated_ids)\n",
    "    print(decoded)\n",
    "    \n",
    "    return decoded[0]"
   ]
  },
  {
   "cell_type": "code",
   "execution_count": null,
   "id": "4d596be7",
   "metadata": {},
   "outputs": [
    {
     "name": "stderr",
     "output_type": "stream",
     "text": [
      "The attention mask and the pad token id were not set. As a consequence, you may observe unexpected behavior. Please pass your input's `attention_mask` to obtain reliable results.\n",
      "Setting `pad_token_id` to `eos_token_id`:2 for open-end generation.\n"
     ]
    }
   ],
   "source": [
    "rag_query(\"Elesh Norn, Grand Cenobite\", model, tokenizer)"
   ]
  },
  {
   "cell_type": "code",
   "execution_count": null,
   "id": "6dd2e39b",
   "metadata": {},
   "outputs": [],
   "source": [
    "# 5:33.75 start"
   ]
  }
 ],
 "metadata": {
  "kernelspec": {
   "display_name": "Python 3 (ipykernel)",
   "language": "python",
   "name": "python3"
  },
  "language_info": {
   "codemirror_mode": {
    "name": "ipython",
    "version": 3
   },
   "file_extension": ".py",
   "mimetype": "text/x-python",
   "name": "python",
   "nbconvert_exporter": "python",
   "pygments_lexer": "ipython3",
   "version": "3.11.4"
  }
 },
 "nbformat": 4,
 "nbformat_minor": 5
}
