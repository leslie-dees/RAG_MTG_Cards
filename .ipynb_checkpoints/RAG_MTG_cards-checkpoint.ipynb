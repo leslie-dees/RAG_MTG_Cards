{
 "cells": [
  {
   "cell_type": "code",
   "execution_count": 2,
   "id": "94ffaf5a",
   "metadata": {},
   "outputs": [],
   "source": [
    "import sqlite3\n",
    "import numpy as np\n",
    "from tqdm import tqdm\n",
    "from scipy.spatial.distance import cosine\n",
    "from angle_emb import AnglE\n",
    "from transformers import AutoTokenizer, AutoModelForCausalLM\n",
    "import torch\n",
    "import os\n",
    "\n",
    "angle = AnglE.from_pretrained('WhereIsAI/UAE-Large-V1', pooling_strategy='cls')\n",
    "\n",
    "vector_db_name = \"raw/full_card_vector_database.db\""
   ]
  },
  {
   "cell_type": "code",
   "execution_count": 20,
   "id": "6d2071e6",
   "metadata": {},
   "outputs": [],
   "source": [
    "from openai import OpenAI\n",
    "def semantic_search(query, vector_db_name, number_chunks = 5):\n",
    "    conn = sqlite3.connect(vector_db_name)\n",
    "    c = conn.cursor()\n",
    "\n",
    "    query_embedding = angle.encode(query, to_numpy=True).flatten()\n",
    "\n",
    "    c.execute(\"SELECT id, name, card_text, vector FROM vectordb\")\n",
    "    rows = c.fetchall()\n",
    "\n",
    "    similarities = []\n",
    "    for row in rows :\n",
    "        id_, name, card_text, vector_bytes = row\n",
    "        stored_embedding = np.frombuffer(vector_bytes, dtype=np.float32).flatten()\n",
    "        sim = 1 - cosine(query_embedding, stored_embedding)\n",
    "        similarities.append((id_, card_text, sim))\n",
    "\n",
    "    similarities.sort(key=lambda x: x[2], reverse=True)  # Sort by similarity scores in descending order\n",
    "\n",
    "    top_matches = similarities[:number_chunks]\n",
    "\n",
    "    conn.close()\n",
    "\n",
    "    return [(match[1], match[2]) for match in top_matches]\n",
    "\n",
    "def rag_query(query):\n",
    "    chunks = semantic_search(query, vector_db_name, 3)\n",
    "    \n",
    "    prompt_prefix = \"\"\n",
    "    for chunk in chunks:\n",
    "        prompt_prefix += chunk[0]+\"/n/n\"\n",
    "    \n",
    "    prompt = f\"\"\"[INST]\n",
    "    Given the following card data, provide me with the exact text of {query} in the format of :\n",
    "    \\nname: \\nmana_cost: \\ncmc: \\ntype_line: \\noracle_text: \\npower: \\ntoughness: \\ncolors: \\ncolor_identity: \\nkeywords:\n",
    "    \n",
    "    \\n{prompt_prefix}\n",
    "    \n",
    "    Use only the data in the provided chunks above. [/INST]\n",
    "    \"\"\"\n",
    "\n",
    "    \n",
    "    client = OpenAI(api_key = os.environ.get['OPENAI_API_KEY'])\n",
    "\n",
    "    response = client.chat.completions.create(\n",
    "      model=\"gpt-3.5-turbo\",\n",
    "      messages=[\n",
    "        {\"role\": \"user\", \"content\": prompt},\n",
    "      ]\n",
    "    )\n",
    "    return response.choices[0].message.content"
   ]
  },
  {
   "cell_type": "code",
   "execution_count": 9,
   "id": "4d596be7",
   "metadata": {},
   "outputs": [
    {
     "name": "stderr",
     "output_type": "stream",
     "text": [
      "INFO:httpx:HTTP Request: POST https://api.openai.com/v1/chat/completions \"HTTP/1.1 200 OK\"\n"
     ]
    }
   ],
   "source": [
    "response = rag_query(\"Elesh Norn, Grand Cenobite\")"
   ]
  },
  {
   "cell_type": "code",
   "execution_count": null,
   "id": "8e0fd01b",
   "metadata": {},
   "outputs": [],
   "source": []
  }
 ],
 "metadata": {
  "kernelspec": {
   "display_name": "Python 3 (ipykernel)",
   "language": "python",
   "name": "python3"
  },
  "language_info": {
   "codemirror_mode": {
    "name": "ipython",
    "version": 3
   },
   "file_extension": ".py",
   "mimetype": "text/x-python",
   "name": "python",
   "nbconvert_exporter": "python",
   "pygments_lexer": "ipython3",
   "version": "3.11.4"
  }
 },
 "nbformat": 4,
 "nbformat_minor": 5
}
